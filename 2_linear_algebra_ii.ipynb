{
  "nbformat": 4,
  "nbformat_minor": 0,
  "metadata": {
    "colab": {
      "provenance": [],
      "authorship_tag": "ABX9TyN5AoMIXzSWDmFvSNfvYLnK",
      "include_colab_link": true
    },
    "kernelspec": {
      "name": "python3",
      "display_name": "Python 3"
    },
    "language_info": {
      "name": "python"
    }
  },
  "cells": [
    {
      "cell_type": "markdown",
      "metadata": {
        "id": "view-in-github",
        "colab_type": "text"
      },
      "source": [
        "<a href=\"https://colab.research.google.com/github/InshaSadaf/ml-foundations-notes/blob/main/2_linear_algebra_ii.ipynb\" target=\"_parent\"><img src=\"https://colab.research.google.com/assets/colab-badge.svg\" alt=\"Open In Colab\"/></a>"
      ]
    },
    {
      "cell_type": "markdown",
      "source": [
        "**EigenDecomposition**"
      ],
      "metadata": {
        "id": "pLwA1HgrFxhi"
      }
    },
    {
      "cell_type": "markdown",
      "source": [
        "**Affine Transformation via Matrix Application**"
      ],
      "metadata": {
        "id": "qPMm5bN2F_F_"
      }
    },
    {
      "cell_type": "markdown",
      "source": [
        "Lets say we have a vector v :"
      ],
      "metadata": {
        "id": "Kkchi3tsGHql"
      }
    },
    {
      "cell_type": "code",
      "source": [
        "import pandas as pd\n",
        "import numpy as np\n",
        "import matplotlib.pyplot as plt\n"
      ],
      "metadata": {
        "id": "_IH3ttNjGXrE"
      },
      "execution_count": null,
      "outputs": []
    },
    {
      "cell_type": "code",
      "execution_count": null,
      "metadata": {
        "colab": {
          "base_uri": "https://localhost:8080/"
        },
        "id": "19EAAthRFYd7",
        "outputId": "6e7724e9-1376-4010-e255-eb959f1abaeb"
      },
      "outputs": [
        {
          "output_type": "execute_result",
          "data": {
            "text/plain": [
              "array([3, 1])"
            ]
          },
          "metadata": {},
          "execution_count": 2
        }
      ],
      "source": [
        "v = np.array([3,1])\n",
        "v"
      ]
    },
    {
      "cell_type": "code",
      "source": [
        "def plot_vectors(vectors, colors):\n",
        "    \"\"\"\n",
        "    Plot one or more vectors in a 2D plane, specifying a color for each.\n",
        "\n",
        "    Arguments\n",
        "    ---------\n",
        "    vectors: list of lists or of arrays\n",
        "        Coordinates of the vectors to plot. For example, [[1, 3], [2, 2]]\n",
        "        contains two vectors to plot, [1, 3] and [2, 2].\n",
        "    colors: list\n",
        "        Colors of the vectors. For instance: ['red', 'blue'] will display the\n",
        "        first vector in red and the second in blue.\n",
        "\n",
        "    Example\n",
        "    -------\n",
        "    plot_vectors([[1, 3], [2, 2]], ['red', 'blue'])\n",
        "    plt.xlim(-1, 4)\n",
        "    plt.ylim(-1, 4)\n",
        "    \"\"\"\n",
        "    plt.figure()\n",
        "    plt.axvline(x=0, color='lightgray')\n",
        "    plt.axhline(y=0, color='lightgray')\n",
        "\n",
        "    for i in range(len(vectors)):\n",
        "        x = np.concatenate([[0,0],vectors[i]])\n",
        "        plt.quiver([x[0]], [x[1]], [x[2]], [x[3]],\n",
        "                   angles='xy', scale_units='xy', scale=1, color=colors[i],)"
      ],
      "metadata": {
        "id": "40SxspJgGPeF"
      },
      "execution_count": null,
      "outputs": []
    },
    {
      "cell_type": "code",
      "source": [
        "plot_vectors([v], ['lightblue'])\n",
        "plt.xlim(-1, 5)\n",
        "_ = plt.ylim(-1, 5)\n"
      ],
      "metadata": {
        "colab": {
          "base_uri": "https://localhost:8080/",
          "height": 435
        },
        "id": "a8mhTGsUHxpK",
        "outputId": "131f97c6-d54c-427f-ba31-52f1926b4841"
      },
      "execution_count": null,
      "outputs": [
        {
          "output_type": "display_data",
          "data": {
            "text/plain": [
              "<Figure size 640x480 with 1 Axes>"
            ],
            "image/png": "[encoded data removed]"
          },
          "metadata": {}
        }
      ]
    },
    {
      "cell_type": "markdown",
      "source": [
        "\"Applying\" a matrix to a vector (i.e., performing matrix-vector multiplication) can linearly transform the vector, e.g, rotate it or rescale it.\n",
        "\n",
        "The identity matrix, introduced earlier, is the exception that proves the rule: Applying an identity matrix does not transform the vector:\n"
      ],
      "metadata": {
        "id": "bB_TNuBzH4TU"
      }
    },
    {
      "cell_type": "code",
      "source": [
        "I = np.array([[1,0],[0,1]])\n",
        "I"
      ],
      "metadata": {
        "colab": {
          "base_uri": "https://localhost:8080/"
        },
        "id": "Jlhh8C0xH5Us",
        "outputId": "96204167-adce-4b08-bc0d-8eef3b18a6c6"
      },
      "execution_count": null,
      "outputs": [
        {
          "output_type": "execute_result",
          "data": {
            "text/plain": [
              "array([[1, 0],\n",
              "       [0, 1]])"
            ]
          },
          "metadata": {},
          "execution_count": 5
        }
      ]
    },
    {
      "cell_type": "code",
      "source": [
        "Iv = np.dot(I,v)\n",
        "Iv"
      ],
      "metadata": {
        "colab": {
          "base_uri": "https://localhost:8080/"
        },
        "id": "mtbrERvhIfOa",
        "outputId": "9feec49c-e608-44cd-b894-a7af5765ca31"
      },
      "execution_count": null,
      "outputs": [
        {
          "output_type": "execute_result",
          "data": {
            "text/plain": [
              "array([3, 1])"
            ]
          },
          "metadata": {},
          "execution_count": 6
        }
      ]
    },
    {
      "cell_type": "code",
      "source": [
        "v == Iv"
      ],
      "metadata": {
        "colab": {
          "base_uri": "https://localhost:8080/"
        },
        "id": "e3sL_w22Il5K",
        "outputId": "3b50cba9-9ef2-4724-f8c9-1299272ef455"
      },
      "execution_count": null,
      "outputs": [
        {
          "output_type": "execute_result",
          "data": {
            "text/plain": [
              "array([ True,  True])"
            ]
          },
          "metadata": {},
          "execution_count": 7
        }
      ]
    },
    {
      "cell_type": "code",
      "source": [
        "plot_vectors([Iv],['blue'])\n",
        "plt.xlim(-1,5)\n",
        "_ = plt.ylim(-1,5)\n"
      ],
      "metadata": {
        "colab": {
          "base_uri": "https://localhost:8080/",
          "height": 435
        },
        "id": "n5uwPgRTIqdz",
        "outputId": "b9cbcc0a-d846-491d-b603-80dab2133e3d"
      },
      "execution_count": null,
      "outputs": [
        {
          "output_type": "display_data",
          "data": {
            "text/plain": [
              "<Figure size 640x480 with 1 Axes>"
            ],
            "image/png": "[encoded data removed]"
          },
          "metadata": {}
        }
      ]
    },
    {
      "cell_type": "markdown",
      "source": [
        "In contrast, consider this matrix(lets call it E) that flips vector over the x-axis:"
      ],
      "metadata": {
        "id": "LoXUgTqaPZ7X"
      }
    },
    {
      "cell_type": "code",
      "source": [
        "E = np.array([[1,0],[0,-1]])\n",
        "E"
      ],
      "metadata": {
        "colab": {
          "base_uri": "https://localhost:8080/"
        },
        "id": "b_9Rk8OeI6G-",
        "outputId": "7d7b36ed-829a-4e5c-a66b-75c0298088e6"
      },
      "execution_count": null,
      "outputs": [
        {
          "output_type": "execute_result",
          "data": {
            "text/plain": [
              "array([[ 1,  0],\n",
              "       [ 0, -1]])"
            ]
          },
          "metadata": {},
          "execution_count": 9
        }
      ]
    },
    {
      "cell_type": "code",
      "source": [
        "Ev = np.dot(E,v)"
      ],
      "metadata": {
        "id": "1DVmGzNTP2wq"
      },
      "execution_count": null,
      "outputs": []
    },
    {
      "cell_type": "code",
      "source": [
        "plot_vectors([v,Ev],['lightblue','blue'])\n",
        "plt.xlim(-1,5)\n",
        "_=plt.ylim(-3,3)"
      ],
      "metadata": {
        "colab": {
          "base_uri": "https://localhost:8080/",
          "height": 435
        },
        "id": "keuwbV6UP6h9",
        "outputId": "bf911b2c-2665-4694-965b-417667b5d7b7"
      },
      "execution_count": null,
      "outputs": [
        {
          "output_type": "display_data",
          "data": {
            "text/plain": [
              "<Figure size 640x480 with 1 Axes>"
            ],
            "image/png": "[encoded data removed]"
          },
          "metadata": {}
        }
      ]
    },
    {
      "cell_type": "markdown",
      "source": [
        "or this matrix,F , which flips vector over the y-axis:"
      ],
      "metadata": {
        "id": "3EG6QmzeQNNR"
      }
    },
    {
      "cell_type": "code",
      "source": [
        "F = np.array([[-1,0],[0,1]])"
      ],
      "metadata": {
        "id": "UAfS8lpdQbJB"
      },
      "execution_count": null,
      "outputs": []
    },
    {
      "cell_type": "code",
      "source": [
        "Fv= np.dot(F,v)\n",
        "Fv"
      ],
      "metadata": {
        "colab": {
          "base_uri": "https://localhost:8080/"
        },
        "id": "Fmx4YKHpQev6",
        "outputId": "e464fcea-1b64-49e7-cead-bf96d9b59fea"
      },
      "execution_count": null,
      "outputs": [
        {
          "output_type": "execute_result",
          "data": {
            "text/plain": [
              "array([-3,  1])"
            ]
          },
          "metadata": {},
          "execution_count": 13
        }
      ]
    },
    {
      "cell_type": "code",
      "source": [
        "plot_vectors([v,Fv],['lightblue','blue'])\n",
        "plt.xlim(-4,4)\n",
        "_=plt.ylim(-1,5)"
      ],
      "metadata": {
        "colab": {
          "base_uri": "https://localhost:8080/",
          "height": 435
        },
        "id": "yw2oFFerQjSp",
        "outputId": "3106bfda-230f-4d0d-9e81-006340efe3f0"
      },
      "execution_count": null,
      "outputs": [
        {
          "output_type": "display_data",
          "data": {
            "text/plain": [
              "<Figure size 640x480 with 1 Axes>"
            ],
            "image/png": "[encoded data removed]"
          },
          "metadata": {}
        }
      ]
    },
    {
      "cell_type": "markdown",
      "source": [
        "Applying a **flipping matrix** is an example of an **affine transformation**: a change in geometry that may adjust distances or angles between vectors, but preserves parallelism between them.\n",
        "\n",
        "In addition to flipping a matrix over an axis (a.k.a., reflection), other common affine transformations include:\n",
        "\n",
        "- Scaling (changing the length of vectors)\n",
        "- Shearing\n",
        "- Rotation\n",
        "\n",
        "\n",
        "A single matrix can apply multiple affine transforms simultaneously (e.g., flip over an axis and rotate 45 degrees). As an example, let's see what happens when we apply this matrix A\n",
        " to the vector v\n",
        ":\n",
        "\n",
        "\n",
        "\n"
      ],
      "metadata": {
        "id": "xYkh_x5oQ1s5"
      }
    },
    {
      "cell_type": "code",
      "source": [
        "A= np.array([[-1,4],[2,-2]])\n",
        "A"
      ],
      "metadata": {
        "colab": {
          "base_uri": "https://localhost:8080/"
        },
        "id": "j4iXlgtbQvjw",
        "outputId": "ad6159dd-e8f9-43c5-9d82-55cf98212c9e"
      },
      "execution_count": null,
      "outputs": [
        {
          "output_type": "execute_result",
          "data": {
            "text/plain": [
              "array([[-1,  4],\n",
              "       [ 2, -2]])"
            ]
          },
          "metadata": {},
          "execution_count": 15
        }
      ]
    },
    {
      "cell_type": "code",
      "source": [
        "plot_vectors([v,np.dot(A,v)],['lightblue','blue'])\n",
        "plt.xlim(-1,5)\n",
        "_=plt.ylim(-1,5)"
      ],
      "metadata": {
        "colab": {
          "base_uri": "https://localhost:8080/",
          "height": 435
        },
        "id": "iHJRtZsARoMm",
        "outputId": "30ed94d8-66e5-4c53-acd1-1245a104386b"
      },
      "execution_count": null,
      "outputs": [
        {
          "output_type": "display_data",
          "data": {
            "text/plain": [
              "<Figure size 640x480 with 1 Axes>"
            ],
            "image/png": "[encoded data removed]"
          },
          "metadata": {}
        }
      ]
    },
    {
      "cell_type": "code",
      "source": [
        "# Another example of applying A:\n",
        "v2 = np.array([2, 1])\n",
        "plot_vectors([v2, np.dot(A, v2)], ['lightgreen', 'green'])\n",
        "plt.xlim(-1, 5)\n",
        "_ = plt.ylim(-1, 5)"
      ],
      "metadata": {
        "colab": {
          "base_uri": "https://localhost:8080/",
          "height": 435
        },
        "id": "ytTJfL9ER-2C",
        "outputId": "6b224b09-2f42-4ac7-b7d4-7e493fb709ca"
      },
      "execution_count": null,
      "outputs": [
        {
          "output_type": "display_data",
          "data": {
            "text/plain": [
              "<Figure size 640x480 with 1 Axes>"
            ],
            "image/png": "[encoded data removed]"
          },
          "metadata": {}
        }
      ]
    },
    {
      "cell_type": "markdown",
      "source": [
        "We can concatenate several vectors together into a matrix (say, V\n",
        "), where each column is a separate vector. Then, whatever linear transformations we apply to V\n",
        " will be independently applied to each column (vector):\n"
      ],
      "metadata": {
        "id": "LfMZhtDOSaHV"
      }
    },
    {
      "cell_type": "code",
      "source": [
        "v"
      ],
      "metadata": {
        "colab": {
          "base_uri": "https://localhost:8080/"
        },
        "id": "FPL8kOvjST1A",
        "outputId": "5382936f-882c-4917-c54d-49357c4d0b18"
      },
      "execution_count": null,
      "outputs": [
        {
          "output_type": "execute_result",
          "data": {
            "text/plain": [
              "array([3, 1])"
            ]
          },
          "metadata": {},
          "execution_count": 18
        }
      ]
    },
    {
      "cell_type": "code",
      "source": [
        "np.matrix(v).T"
      ],
      "metadata": {
        "colab": {
          "base_uri": "https://localhost:8080/"
        },
        "id": "DQuGc80_ThVK",
        "outputId": "89c99ea4-a131-4e00-e261-5472b99d8585"
      },
      "execution_count": null,
      "outputs": [
        {
          "output_type": "execute_result",
          "data": {
            "text/plain": [
              "matrix([[3],\n",
              "        [1]])"
            ]
          },
          "metadata": {},
          "execution_count": 19
        }
      ]
    },
    {
      "cell_type": "code",
      "source": [
        "v3 = np.array([-3,-1]) #mirror image over both axis\n",
        "v4 = np.array([-1,-1])"
      ],
      "metadata": {
        "id": "kpNlwKcnTjlA"
      },
      "execution_count": null,
      "outputs": []
    },
    {
      "cell_type": "code",
      "source": [
        "V = np.concatenate((np.matrix(v).T,\n",
        "                    np.matrix(v2).T,\n",
        "                    np.matrix(v3).T,\n",
        "                    np.matrix(v4).T),\n",
        "                    axis = 1)\n",
        "V"
      ],
      "metadata": {
        "colab": {
          "base_uri": "https://localhost:8080/"
        },
        "id": "9-Kx_XOKTwq4",
        "outputId": "69ae9460-da93-4b81-9e6d-6deea0ce0221"
      },
      "execution_count": null,
      "outputs": [
        {
          "output_type": "execute_result",
          "data": {
            "text/plain": [
              "matrix([[ 3,  2, -3, -1],\n",
              "        [ 1,  1, -1, -1]])"
            ]
          },
          "metadata": {},
          "execution_count": 21
        }
      ]
    },
    {
      "cell_type": "code",
      "source": [
        "IV = np.dot(I,V)\n",
        "IV"
      ],
      "metadata": {
        "colab": {
          "base_uri": "https://localhost:8080/"
        },
        "id": "DBK9604ZT9ei",
        "outputId": "db8757dd-f68c-4af6-eb78-9bf4e8ac05d7"
      },
      "execution_count": null,
      "outputs": [
        {
          "output_type": "execute_result",
          "data": {
            "text/plain": [
              "matrix([[ 3,  2, -3, -1],\n",
              "        [ 1,  1, -1, -1]])"
            ]
          },
          "metadata": {},
          "execution_count": 22
        }
      ]
    },
    {
      "cell_type": "code",
      "source": [
        "AV = np.dot(A,V)\n",
        "AV"
      ],
      "metadata": {
        "colab": {
          "base_uri": "https://localhost:8080/"
        },
        "id": "kpQzQmasUZVu",
        "outputId": "920def67-5027-4de6-da2e-0043f9c87ace"
      },
      "execution_count": null,
      "outputs": [
        {
          "output_type": "execute_result",
          "data": {
            "text/plain": [
              "matrix([[ 1,  2, -1, -3],\n",
              "        [ 4,  2, -4,  0]])"
            ]
          },
          "metadata": {},
          "execution_count": 23
        }
      ]
    },
    {
      "cell_type": "code",
      "source": [
        "#function to convert column of matrix to 1 D vector:\n",
        "def vectorfy(mtrx,clmn):\n",
        "  return np.array(mtrx[:,clmn]).reshape(-1)"
      ],
      "metadata": {
        "id": "h8zAyUE4UjIO"
      },
      "execution_count": null,
      "outputs": []
    },
    {
      "cell_type": "code",
      "source": [
        "vectorfy(V,0)"
      ],
      "metadata": {
        "colab": {
          "base_uri": "https://localhost:8080/"
        },
        "id": "qkaM-p8fU1Qz",
        "outputId": "3c937baa-1681-4aa0-c8b4-aaa78bbbea68"
      },
      "execution_count": null,
      "outputs": [
        {
          "output_type": "execute_result",
          "data": {
            "text/plain": [
              "array([3, 1])"
            ]
          },
          "metadata": {},
          "execution_count": 25
        }
      ]
    },
    {
      "cell_type": "code",
      "source": [
        "vectorfy(V,0)==v"
      ],
      "metadata": {
        "colab": {
          "base_uri": "https://localhost:8080/"
        },
        "id": "3__tO45TU4A8",
        "outputId": "0f4f3ed8-b249-4674-ffab-85f66bbd66e0"
      },
      "execution_count": null,
      "outputs": [
        {
          "output_type": "execute_result",
          "data": {
            "text/plain": [
              "array([ True,  True])"
            ]
          },
          "metadata": {},
          "execution_count": 26
        }
      ]
    },
    {
      "cell_type": "code",
      "source": [
        "plot_vectors([vectorfy(V, 0), vectorfy(V, 1), vectorfy(V, 2), vectorfy(V, 3),\n",
        "             vectorfy(AV, 0), vectorfy(AV, 1), vectorfy(AV, 2), vectorfy(AV, 3)],\n",
        "            ['lightblue', 'lightgreen', 'lightgray', 'orange',\n",
        "             'blue', 'green', 'gray', 'red'])\n",
        "plt.xlim(-4, 6)\n",
        "_ = plt.ylim(-5, 5)"
      ],
      "metadata": {
        "colab": {
          "base_uri": "https://localhost:8080/",
          "height": 430
        },
        "id": "RmtPFa6lU_ku",
        "outputId": "cdedf61a-6475-45a2-d4cc-c6bd81996814"
      },
      "execution_count": null,
      "outputs": [
        {
          "output_type": "display_data",
          "data": {
            "text/plain": [
              "<Figure size 640x480 with 1 Axes>"
            ],
            "image/png": "[encoded data removed]"
          },
          "metadata": {}
        }
      ]
    },
    {
      "cell_type": "markdown",
      "source": [
        "**Eigen Vectors and Eigen Values**\n"
      ],
      "metadata": {
        "id": "VNvt5DOS_fkF"
      }
    },
    {
      "cell_type": "code",
      "source": [
        "A = np.array([[1,2],[5,4]])\n",
        "A"
      ],
      "metadata": {
        "colab": {
          "base_uri": "https://localhost:8080/"
        },
        "id": "zg-PmcQC_xge",
        "outputId": "6633dec6-a6c4-4bc4-d0c4-bc6fd998db41"
      },
      "execution_count": null,
      "outputs": [
        {
          "output_type": "execute_result",
          "data": {
            "text/plain": [
              "array([[1, 2],\n",
              "       [5, 4]])"
            ]
          },
          "metadata": {},
          "execution_count": 28
        }
      ]
    },
    {
      "cell_type": "code",
      "source": [
        "lambdas , V = np.linalg.eig(A)"
      ],
      "metadata": {
        "id": "MHgyXrYzVKEe"
      },
      "execution_count": null,
      "outputs": []
    },
    {
      "cell_type": "code",
      "source": [
        "V"
      ],
      "metadata": {
        "colab": {
          "base_uri": "https://localhost:8080/"
        },
        "id": "cDE4pgT7ACw_",
        "outputId": "932a79eb-7b16-4640-f157-dec7562f3aa8"
      },
      "execution_count": null,
      "outputs": [
        {
          "output_type": "execute_result",
          "data": {
            "text/plain": [
              "array([[-0.70710678, -0.37139068],\n",
              "       [ 0.70710678, -0.92847669]])"
            ]
          },
          "metadata": {},
          "execution_count": 30
        }
      ]
    },
    {
      "cell_type": "code",
      "source": [
        "lambdas"
      ],
      "metadata": {
        "colab": {
          "base_uri": "https://localhost:8080/"
        },
        "id": "4fBLwtr_ASm4",
        "outputId": "95671fb4-324d-4bb8-f025-8d261b011d39"
      },
      "execution_count": null,
      "outputs": [
        {
          "output_type": "execute_result",
          "data": {
            "text/plain": [
              "array([-1.,  6.])"
            ]
          },
          "metadata": {},
          "execution_count": 31
        }
      ]
    },
    {
      "cell_type": "markdown",
      "source": [
        "lets first confirm that Av = lamda v for the first eigenvector:\n",
        "\n"
      ],
      "metadata": {
        "id": "O-C3TKt2Ao6C"
      }
    },
    {
      "cell_type": "code",
      "source": [
        "v = V[:,0]\n",
        "v"
      ],
      "metadata": {
        "colab": {
          "base_uri": "https://localhost:8080/"
        },
        "id": "1OYCMJRdATT9",
        "outputId": "05cd15f9-4007-4e6d-adf3-ef38e9d59155"
      },
      "execution_count": null,
      "outputs": [
        {
          "output_type": "execute_result",
          "data": {
            "text/plain": [
              "array([-0.70710678,  0.70710678])"
            ]
          },
          "metadata": {},
          "execution_count": 32
        }
      ]
    },
    {
      "cell_type": "code",
      "source": [
        "lambduh = lambdas[0]\n",
        "lambduh"
      ],
      "metadata": {
        "colab": {
          "base_uri": "https://localhost:8080/"
        },
        "id": "LRtoWV0yBNT9",
        "outputId": "6ff68249-fe87-4dcc-c02c-63043b33e672"
      },
      "execution_count": null,
      "outputs": [
        {
          "output_type": "execute_result",
          "data": {
            "text/plain": [
              "np.float64(-1.0)"
            ]
          },
          "metadata": {},
          "execution_count": 33
        }
      ]
    },
    {
      "cell_type": "code",
      "source": [
        "Av = np.dot(A,v)\n",
        "Av"
      ],
      "metadata": {
        "colab": {
          "base_uri": "https://localhost:8080/"
        },
        "id": "9QDtqNxoBZ5Y",
        "outputId": "0c52cb3b-f2e9-4836-80bc-f8f880ac7814"
      },
      "execution_count": null,
      "outputs": [
        {
          "output_type": "execute_result",
          "data": {
            "text/plain": [
              "array([ 0.70710678, -0.70710678])"
            ]
          },
          "metadata": {},
          "execution_count": 34
        }
      ]
    },
    {
      "cell_type": "code",
      "source": [
        "lambduh *v"
      ],
      "metadata": {
        "colab": {
          "base_uri": "https://localhost:8080/"
        },
        "id": "ZfrNHe0qBhKv",
        "outputId": "fef39293-a42b-4439-dd27-c42a0c189cd5"
      },
      "execution_count": null,
      "outputs": [
        {
          "output_type": "execute_result",
          "data": {
            "text/plain": [
              "array([ 0.70710678, -0.70710678])"
            ]
          },
          "metadata": {},
          "execution_count": 35
        }
      ]
    },
    {
      "cell_type": "code",
      "source": [
        "plot_vectors([Av,v],['blue','lightblue'])\n",
        "plt.xlim(-1,2)\n",
        "_=plt.ylim(-1,2)"
      ],
      "metadata": {
        "colab": {
          "base_uri": "https://localhost:8080/",
          "height": 435
        },
        "id": "G88AMCR3Bocq",
        "outputId": "df888fb7-ee30-457f-b765-51f85c76df27"
      },
      "execution_count": null,
      "outputs": [
        {
          "output_type": "display_data",
          "data": {
            "text/plain": [
              "<Figure size 640x480 with 1 Axes>"
            ],
            "image/png": "[encoded data removed]"
          },
          "metadata": {}
        }
      ]
    },
    {
      "cell_type": "code",
      "source": [
        "v2 = V[:,1]\n",
        "v2\n"
      ],
      "metadata": {
        "colab": {
          "base_uri": "https://localhost:8080/"
        },
        "id": "4gif9OIXB8y6",
        "outputId": "a36415e0-6164-460e-936b-28187e4d01c0"
      },
      "execution_count": null,
      "outputs": [
        {
          "output_type": "execute_result",
          "data": {
            "text/plain": [
              "array([-0.37139068, -0.92847669])"
            ]
          },
          "metadata": {},
          "execution_count": 37
        }
      ]
    },
    {
      "cell_type": "code",
      "source": [
        "Av2 = np.dot(A,v2)\n",
        "Av2"
      ],
      "metadata": {
        "colab": {
          "base_uri": "https://localhost:8080/"
        },
        "id": "OzohrHIzCORb",
        "outputId": "e640fa0f-4801-46b8-ae0e-96ece854e305"
      },
      "execution_count": null,
      "outputs": [
        {
          "output_type": "execute_result",
          "data": {
            "text/plain": [
              "array([-2.22834406, -5.57086015])"
            ]
          },
          "metadata": {},
          "execution_count": 38
        }
      ]
    },
    {
      "cell_type": "code",
      "source": [
        "lambdah = lambdas[1]\n",
        "lambdah\n"
      ],
      "metadata": {
        "colab": {
          "base_uri": "https://localhost:8080/"
        },
        "id": "TTng1PqSCtbx",
        "outputId": "e2db8a06-54fc-4c36-deed-777611408d5b"
      },
      "execution_count": null,
      "outputs": [
        {
          "output_type": "execute_result",
          "data": {
            "text/plain": [
              "np.float64(6.0)"
            ]
          },
          "metadata": {},
          "execution_count": 39
        }
      ]
    },
    {
      "cell_type": "code",
      "source": [
        "lambdah * v2"
      ],
      "metadata": {
        "colab": {
          "base_uri": "https://localhost:8080/"
        },
        "id": "bolDEGHtCc4l",
        "outputId": "c165093d-9fb2-4475-97a8-d3033664ff60"
      },
      "execution_count": null,
      "outputs": [
        {
          "output_type": "execute_result",
          "data": {
            "text/plain": [
              "array([-2.22834406, -5.57086015])"
            ]
          },
          "metadata": {},
          "execution_count": 40
        }
      ]
    },
    {
      "cell_type": "code",
      "source": [
        "plot_vectors([Av,v,Av2,v2],['blue','lightblue','green','lightgreen'])\n",
        "plt.xlim(-5,2)\n",
        "_=plt.ylim(-8,2)"
      ],
      "metadata": {
        "colab": {
          "base_uri": "https://localhost:8080/",
          "height": 435
        },
        "id": "wWh7rjfeCpP_",
        "outputId": "11bc491a-d316-4ed6-be5b-12682b9789cd"
      },
      "execution_count": null,
      "outputs": [
        {
          "output_type": "display_data",
          "data": {
            "text/plain": [
              "<Figure size 640x480 with 1 Axes>"
            ],
            "image/png": "[encoded data removed]"
          },
          "metadata": {}
        }
      ]
    },
    {
      "cell_type": "markdown",
      "source": [
        "**Eigendecomposition**\n",
        "The eigendecomposition of some matrix A is\n",
        "A = V LAMBDA V^-1\n"
      ],
      "metadata": {
        "id": "Nd60h0CQL0BB"
      }
    },
    {
      "cell_type": "code",
      "source": [
        "A = np.array([[4,2],[-5,-3]])"
      ],
      "metadata": {
        "id": "Y7Eg406jDS09"
      },
      "execution_count": null,
      "outputs": []
    },
    {
      "cell_type": "code",
      "source": [
        "lambdas , V = np.linalg.eig(A)\n",
        "lambdas"
      ],
      "metadata": {
        "colab": {
          "base_uri": "https://localhost:8080/"
        },
        "id": "WmFxRpLLMR37",
        "outputId": "922d5321-65ec-4e42-ef48-687319f64722"
      },
      "execution_count": null,
      "outputs": [
        {
          "output_type": "execute_result",
          "data": {
            "text/plain": [
              "array([ 2., -1.])"
            ]
          },
          "metadata": {},
          "execution_count": 43
        }
      ]
    },
    {
      "cell_type": "code",
      "source": [
        "V"
      ],
      "metadata": {
        "colab": {
          "base_uri": "https://localhost:8080/"
        },
        "id": "l2LsHkKlMZFu",
        "outputId": "cc2568d9-4c9b-411d-ebd2-c26c887402aa"
      },
      "execution_count": null,
      "outputs": [
        {
          "output_type": "execute_result",
          "data": {
            "text/plain": [
              "array([[ 0.70710678, -0.37139068],\n",
              "       [-0.70710678,  0.92847669]])"
            ]
          },
          "metadata": {},
          "execution_count": 44
        }
      ]
    },
    {
      "cell_type": "code",
      "source": [
        "lambdah = lambdas[:1]\n",
        "lambdah"
      ],
      "metadata": {
        "colab": {
          "base_uri": "https://localhost:8080/"
        },
        "id": "PqIIE6AsMZ-V",
        "outputId": "4e909c30-f295-47a7-8758-d3dcabe2055d"
      },
      "execution_count": null,
      "outputs": [
        {
          "output_type": "execute_result",
          "data": {
            "text/plain": [
              "array([2.])"
            ]
          },
          "metadata": {},
          "execution_count": 45
        }
      ]
    },
    {
      "cell_type": "code",
      "source": [
        "vinv = np.linalg.inv(V)\n",
        "vinv"
      ],
      "metadata": {
        "colab": {
          "base_uri": "https://localhost:8080/"
        },
        "id": "Vy_ZRAvoMh1i",
        "outputId": "3fb50a67-b9b0-42b9-e990-1c27122b4e35"
      },
      "execution_count": null,
      "outputs": [
        {
          "output_type": "execute_result",
          "data": {
            "text/plain": [
              "array([[2.3570226 , 0.94280904],\n",
              "       [1.79505494, 1.79505494]])"
            ]
          },
          "metadata": {},
          "execution_count": 46
        }
      ]
    },
    {
      "cell_type": "code",
      "source": [
        "Lambda = np.diag(lambdas)\n",
        "Lambda"
      ],
      "metadata": {
        "colab": {
          "base_uri": "https://localhost:8080/"
        },
        "id": "t62sXP_aM6c7",
        "outputId": "30f3e7d7-7f19-4164-c651-5640f76df9a3"
      },
      "execution_count": null,
      "outputs": [
        {
          "output_type": "execute_result",
          "data": {
            "text/plain": [
              "array([[ 2.,  0.],\n",
              "       [ 0., -1.]])"
            ]
          },
          "metadata": {},
          "execution_count": 47
        }
      ]
    },
    {
      "cell_type": "markdown",
      "source": [
        "confirm that A = Vdiag(lambda)V^-1"
      ],
      "metadata": {
        "id": "GTqblBLINY8g"
      }
    },
    {
      "cell_type": "code",
      "source": [
        "np.dot(V,np.dot(Lambda,vinv))"
      ],
      "metadata": {
        "colab": {
          "base_uri": "https://localhost:8080/"
        },
        "id": "VDvQENEFNXas",
        "outputId": "9efc5568-bf3f-4072-b8f5-33645cbb6d97"
      },
      "execution_count": null,
      "outputs": [
        {
          "output_type": "execute_result",
          "data": {
            "text/plain": [
              "array([[ 4.,  2.],\n",
              "       [-5., -3.]])"
            ]
          },
          "metadata": {},
          "execution_count": 48
        }
      ]
    },
    {
      "cell_type": "markdown",
      "source": [
        "**Singular Value Decomposition**\n",
        "A = UDV^T"
      ],
      "metadata": {
        "id": "ak5V9mCY6sbD"
      }
    },
    {
      "cell_type": "code",
      "source": [
        "A = np.array([[-1,2],[3,-2],[5,7]])\n",
        "A"
      ],
      "metadata": {
        "id": "-aw4jRzBNnx8",
        "colab": {
          "base_uri": "https://localhost:8080/"
        },
        "outputId": "3eed4030-b4dc-4cd3-eef1-e20cfb7b3a13"
      },
      "execution_count": null,
      "outputs": [
        {
          "output_type": "execute_result",
          "data": {
            "text/plain": [
              "array([[-1,  2],\n",
              "       [ 3, -2],\n",
              "       [ 5,  7]])"
            ]
          },
          "metadata": {},
          "execution_count": 49
        }
      ]
    },
    {
      "cell_type": "code",
      "source": [
        "U,d,VT =  np.linalg.svd(A)"
      ],
      "metadata": {
        "id": "XoTlRrJd7B-d"
      },
      "execution_count": null,
      "outputs": []
    },
    {
      "cell_type": "code",
      "source": [
        "U"
      ],
      "metadata": {
        "colab": {
          "base_uri": "https://localhost:8080/"
        },
        "id": "bZZXXe2E7ILi",
        "outputId": "b1bac2b7-f39d-4577-9a9a-025186fb8ab9"
      },
      "execution_count": null,
      "outputs": [
        {
          "output_type": "execute_result",
          "data": {
            "text/plain": [
              "array([[ 0.12708324,  0.47409506,  0.87125411],\n",
              "       [ 0.00164602, -0.87847553,  0.47778451],\n",
              "       [ 0.99189069, -0.0592843 , -0.11241989]])"
            ]
          },
          "metadata": {},
          "execution_count": 51
        }
      ]
    },
    {
      "cell_type": "code",
      "source": [
        "d"
      ],
      "metadata": {
        "colab": {
          "base_uri": "https://localhost:8080/"
        },
        "id": "09FrpPR17JY5",
        "outputId": "675c297d-ea0a-493d-cdda-d5bbc03e8d8b"
      },
      "execution_count": null,
      "outputs": [
        {
          "output_type": "execute_result",
          "data": {
            "text/plain": [
              "array([8.66918448, 4.10429538])"
            ]
          },
          "metadata": {},
          "execution_count": 52
        }
      ]
    },
    {
      "cell_type": "code",
      "source": [
        "VT"
      ],
      "metadata": {
        "colab": {
          "base_uri": "https://localhost:8080/"
        },
        "id": "CQeNKWKs7L9s",
        "outputId": "2801756d-265e-49dd-ca44-41a173e1e01c"
      },
      "execution_count": null,
      "outputs": [
        {
          "output_type": "execute_result",
          "data": {
            "text/plain": [
              "array([[ 0.55798885,  0.82984845],\n",
              "       [-0.82984845,  0.55798885]])"
            ]
          },
          "metadata": {},
          "execution_count": 53
        }
      ]
    },
    {
      "cell_type": "code",
      "source": [
        "np.diag(d)"
      ],
      "metadata": {
        "colab": {
          "base_uri": "https://localhost:8080/"
        },
        "id": "2Cgb1G2X7M_x",
        "outputId": "f7b39131-daed-4c0f-e304-123d8fce0980"
      },
      "execution_count": null,
      "outputs": [
        {
          "output_type": "execute_result",
          "data": {
            "text/plain": [
              "array([[8.66918448, 0.        ],\n",
              "       [0.        , 4.10429538]])"
            ]
          },
          "metadata": {},
          "execution_count": 54
        }
      ]
    },
    {
      "cell_type": "markdown",
      "source": [
        "D must have the same dimensions as A for UDV^T matrix multiplication to be possible :"
      ],
      "metadata": {
        "id": "9OjLmPaJ71vW"
      }
    },
    {
      "cell_type": "code",
      "source": [
        "D = np.concatenate((np.diag(d),[[0,0]]),axis = 0)\n",
        "D"
      ],
      "metadata": {
        "colab": {
          "base_uri": "https://localhost:8080/"
        },
        "id": "VOee7iIS7xes",
        "outputId": "ff324377-953f-4f91-dcd9-784266a14469"
      },
      "execution_count": null,
      "outputs": [
        {
          "output_type": "execute_result",
          "data": {
            "text/plain": [
              "array([[8.66918448, 0.        ],\n",
              "       [0.        , 4.10429538],\n",
              "       [0.        , 0.        ]])"
            ]
          },
          "metadata": {},
          "execution_count": 55
        }
      ]
    },
    {
      "cell_type": "code",
      "source": [
        "np.dot(U,np.dot(D,VT))"
      ],
      "metadata": {
        "colab": {
          "base_uri": "https://localhost:8080/"
        },
        "id": "e86aU-9q8Nrr",
        "outputId": "fbb06302-e044-44d4-ea51-12f41eaab2f4"
      },
      "execution_count": null,
      "outputs": [
        {
          "output_type": "execute_result",
          "data": {
            "text/plain": [
              "array([[-1.,  2.],\n",
              "       [ 3., -2.],\n",
              "       [ 5.,  7.]])"
            ]
          },
          "metadata": {},
          "execution_count": 56
        }
      ]
    },
    {
      "cell_type": "markdown",
      "source": [
        "\n",
        "SVD and eigendecomposition are closely related to each other:\n",
        "\n",
        "- Left-singular vectors of A\n",
        " = eigenvectors of AA^T\n",
        "\n",
        "- Right-singular vectors of A\n",
        " = eigenvectors of A^TA\n",
        "\n",
        "- Non-zero singular values of A\n",
        " = square roots of eigenvalues of AA^T\n",
        " = square roots of eigenvalues of A^TA\n",
        "\n",
        "\n",
        "\n"
      ],
      "metadata": {
        "id": "hFLC4aF0-7HG"
      }
    },
    {
      "cell_type": "code",
      "source": [
        "import torch\n"
      ],
      "metadata": {
        "id": "1CWU4-_C8Yu_"
      },
      "execution_count": null,
      "outputs": []
    },
    {
      "cell_type": "code",
      "source": [
        "P = torch.tensor([[25, 2, -5], [3, -2, 1], [5, 7, 4.]])\n",
        "P"
      ],
      "metadata": {
        "colab": {
          "base_uri": "https://localhost:8080/"
        },
        "id": "DdGmASV4_UwQ",
        "outputId": "6098a325-6d50-494a-c0dd-1fd41c4db555"
      },
      "execution_count": null,
      "outputs": [
        {
          "output_type": "execute_result",
          "data": {
            "text/plain": [
              "tensor([[25.,  2., -5.],\n",
              "        [ 3., -2.,  1.],\n",
              "        [ 5.,  7.,  4.]])"
            ]
          },
          "metadata": {},
          "execution_count": 58
        }
      ]
    },
    {
      "cell_type": "code",
      "source": [
        "U,d,Vt = np.linalg.svd(P)"
      ],
      "metadata": {
        "id": "iW3zBi9I_3Fx"
      },
      "execution_count": null,
      "outputs": []
    },
    {
      "cell_type": "code",
      "source": [
        "VT = Vt.T\n",
        "VT"
      ],
      "metadata": {
        "colab": {
          "base_uri": "https://localhost:8080/"
        },
        "id": "QJJOdCcuAPzT",
        "outputId": "9e1dbfde-a833-4e84-d23c-533f2b09d839"
      },
      "execution_count": null,
      "outputs": [
        {
          "output_type": "execute_result",
          "data": {
            "text/plain": [
              "tensor([[-0.9810, -0.0113,  0.1937],\n",
              "        [-0.1196,  0.8211, -0.5581],\n",
              "        [ 0.1528,  0.5706,  0.8069]])"
            ]
          },
          "metadata": {},
          "execution_count": 60
        }
      ]
    },
    {
      "cell_type": "code",
      "source": [
        "PtP = P.T@P\n",
        "PPt = P@P.T"
      ],
      "metadata": {
        "id": "f9eLYTnUBh-Q"
      },
      "execution_count": null,
      "outputs": []
    },
    {
      "cell_type": "code",
      "source": [
        "eigenvalue_PtP , eigenvectorsPtP = torch.linalg.eig(PtP)\n",
        "eigenvalue_PPt , eigenvectorsPPt = torch.linalg.eig(PPt)\n"
      ],
      "metadata": {
        "id": "xRFy1RhsATb-"
      },
      "execution_count": null,
      "outputs": []
    },
    {
      "cell_type": "code",
      "source": [
        "print(\"U:\\n\", U)\n",
        "print(\"Eigenvectors of P@P.T:\\n\", eigenvectorsPPt)"
      ],
      "metadata": {
        "colab": {
          "base_uri": "https://localhost:8080/"
        },
        "id": "1bSIDvhgBa24",
        "outputId": "b9fe6f46-47e6-4a51-a6c3-9a346490c633"
      },
      "execution_count": null,
      "outputs": [
        {
          "output_type": "stream",
          "name": "stdout",
          "text": [
            "U:\n",
            " tensor([[-0.9757, -0.1823, -0.1214],\n",
            "        [-0.0975, -0.1350,  0.9860],\n",
            "        [-0.1961,  0.9739,  0.1140]])\n",
            "Eigenvectors of P@P.T:\n",
            " tensor([[-0.9757+0.j, -0.1823+0.j,  0.1214+0.j],\n",
            "        [-0.0975+0.j, -0.1350+0.j, -0.9860+0.j],\n",
            "        [-0.1961+0.j,  0.9739+0.j, -0.1140+0.j]])\n"
          ]
        }
      ]
    },
    {
      "cell_type": "code",
      "source": [
        "    print(\"V:\\n\", V)\n",
        "    print(\"Eigenvectors of P.T@P:\\n\", eigenvectorsPtP)"
      ],
      "metadata": {
        "colab": {
          "base_uri": "https://localhost:8080/"
        },
        "id": "crabs4xbB3aI",
        "outputId": "5ecdeb6f-b3ec-4abe-f8dd-98a36ea60713"
      },
      "execution_count": null,
      "outputs": [
        {
          "output_type": "stream",
          "name": "stdout",
          "text": [
            "V:\n",
            " [[ 0.70710678 -0.37139068]\n",
            " [-0.70710678  0.92847669]]\n",
            "Eigenvectors of P.T@P:\n",
            " tensor([[ 0.9810+0.j,  0.1937+0.j, -0.0113+0.j],\n",
            "        [ 0.1196+0.j, -0.5581+0.j,  0.8211+0.j],\n",
            "        [-0.1528+0.j,  0.8069+0.j,  0.5706+0.j]])\n"
          ]
        }
      ]
    },
    {
      "cell_type": "code",
      "source": [
        "    print(\"Singular values (d):\\n\",d)\n",
        "    print(\"Square roots of eigenvalues of P.T@P:\\n\", torch.sqrt(eigenvalue_PtP.real)) # .real to handle potential complex output\n",
        "    print(\"Square roots of eigenvalues of P@P.T:\\n\", torch.sqrt(eigenvalue_PPt.real))"
      ],
      "metadata": {
        "colab": {
          "base_uri": "https://localhost:8080/"
        },
        "id": "tGoJF-gDCAxn",
        "outputId": "1ecbccdd-d1be-4f1c-f5e4-d78eff004fa4"
      },
      "execution_count": null,
      "outputs": [
        {
          "output_type": "stream",
          "name": "stdout",
          "text": [
            "Singular values (d):\n",
            " [26.163235  8.187547  2.539532]\n",
            "Square roots of eigenvalues of P.T@P:\n",
            " tensor([26.1632,  2.5395,  8.1875])\n",
            "Square roots of eigenvalues of P@P.T:\n",
            " tensor([26.1632,  8.1875,  2.5395])\n"
          ]
        }
      ]
    },
    {
      "cell_type": "markdown",
      "source": [
        "**Image Compression via SVD**"
      ],
      "metadata": {
        "id": "OxGk8qs2CgVf"
      }
    },
    {
      "cell_type": "code",
      "source": [
        "!pip install image"
      ],
      "metadata": {
        "colab": {
          "base_uri": "https://localhost:8080/"
        },
        "id": "5aki90JoAiSw",
        "outputId": "a47f6f99-3d8e-4e1b-ddaf-a219d43d850c"
      },
      "execution_count": null,
      "outputs": [
        {
          "output_type": "stream",
          "name": "stdout",
          "text": [
            "Collecting image\n",
            "  Downloading image-1.5.33.tar.gz (15 kB)\n",
            "  Preparing metadata (setup.py) ... \u001b[?25l\u001b[?25hdone\n",
            "Requirement already satisfied: pillow in /usr/local/lib/python3.12/dist-packages (from image) (11.3.0)\n",
            "Collecting django (from image)\n",
            "  Downloading django-5.2.6-py3-none-any.whl.metadata (4.1 kB)\n",
            "Requirement already satisfied: six in /usr/local/lib/python3.12/dist-packages (from image) (1.17.0)\n",
            "Collecting asgiref>=3.8.1 (from django->image)\n",
            "  Downloading asgiref-3.9.1-py3-none-any.whl.metadata (9.3 kB)\n",
            "Requirement already satisfied: sqlparse>=0.3.1 in /usr/local/lib/python3.12/dist-packages (from django->image) (0.5.3)\n",
            "Downloading django-5.2.6-py3-none-any.whl (8.3 MB)\n",
            "\u001b[2K   \u001b[90m━━━━━━━━━━━━━━━━━━━━━━━━━━━━━━━━━━━━━━━━\u001b[0m \u001b[32m8.3/8.3 MB\u001b[0m \u001b[31m59.3 MB/s\u001b[0m eta \u001b[36m0:00:00\u001b[0m\n",
            "\u001b[?25hDownloading asgiref-3.9.1-py3-none-any.whl (23 kB)\n",
            "Building wheels for collected packages: image\n",
            "  Building wheel for image (setup.py) ... \u001b[?25l\u001b[?25hdone\n",
            "  Created wheel for image: filename=image-1.5.33-py2.py3-none-any.whl size=19482 sha256=bca49c9b4088cb433ed711ae15d43ae0bf7ce2f1b016edc7635376413f2a9837\n",
            "  Stored in directory: /root/.cache/pip/wheels/58/30/d8/3212cd83eeeeee0a1f0c7b9b7bd0674a2b9f09342870473a2a\n",
            "Successfully built image\n",
            "Installing collected packages: asgiref, django, image\n",
            "Successfully installed asgiref-3.9.1 django-5.2.6 image-1.5.33\n"
          ]
        }
      ]
    },
    {
      "cell_type": "code",
      "source": [
        "from PIL import Image"
      ],
      "metadata": {
        "id": "xlzo9oY6A4bV"
      },
      "execution_count": null,
      "outputs": []
    },
    {
      "cell_type": "code",
      "source": [
        "img = Image.open('cat.jpg')\n",
        "_=plt.imshow(img)"
      ],
      "metadata": {
        "colab": {
          "base_uri": "https://localhost:8080/",
          "height": 280
        },
        "id": "FIX9h3NXBK3m",
        "outputId": "87945797-0306-4969-bb31-d76472ad9616"
      },
      "execution_count": null,
      "outputs": [
        {
          "output_type": "error",
          "ename": "FileNotFoundError",
          "evalue": "[Errno 2] No such file or directory: 'cat.jpg'",
          "traceback": [
            "\u001b[0;31m---------------------------------------------------------------------------\u001b[0m",
            "\u001b[0;31mFileNotFoundError\u001b[0m                         Traceback (most recent call last)",
            "\u001b[0;32m/tmp/ipython-input-1811234501.py\u001b[0m in \u001b[0;36m<cell line: 0>\u001b[0;34m()\u001b[0m\n\u001b[0;32m----> 1\u001b[0;31m \u001b[0mimg\u001b[0m \u001b[0;34m=\u001b[0m \u001b[0mImage\u001b[0m\u001b[0;34m.\u001b[0m\u001b[0mopen\u001b[0m\u001b[0;34m(\u001b[0m\u001b[0;34m'cat.jpg'\u001b[0m\u001b[0;34m)\u001b[0m\u001b[0;34m\u001b[0m\u001b[0;34m\u001b[0m\u001b[0m\n\u001b[0m\u001b[1;32m      2\u001b[0m \u001b[0m_\u001b[0m\u001b[0;34m=\u001b[0m\u001b[0mplt\u001b[0m\u001b[0;34m.\u001b[0m\u001b[0mimshow\u001b[0m\u001b[0;34m(\u001b[0m\u001b[0mimg\u001b[0m\u001b[0;34m)\u001b[0m\u001b[0;34m\u001b[0m\u001b[0;34m\u001b[0m\u001b[0m\n",
            "\u001b[0;32m/usr/local/lib/python3.12/dist-packages/PIL/Image.py\u001b[0m in \u001b[0;36mopen\u001b[0;34m(fp, mode, formats)\u001b[0m\n\u001b[1;32m   3511\u001b[0m     \u001b[0;32mif\u001b[0m \u001b[0mis_path\u001b[0m\u001b[0;34m(\u001b[0m\u001b[0mfp\u001b[0m\u001b[0;34m)\u001b[0m\u001b[0;34m:\u001b[0m\u001b[0;34m\u001b[0m\u001b[0;34m\u001b[0m\u001b[0m\n\u001b[1;32m   3512\u001b[0m         \u001b[0mfilename\u001b[0m \u001b[0;34m=\u001b[0m \u001b[0mos\u001b[0m\u001b[0;34m.\u001b[0m\u001b[0mfspath\u001b[0m\u001b[0;34m(\u001b[0m\u001b[0mfp\u001b[0m\u001b[0;34m)\u001b[0m\u001b[0;34m\u001b[0m\u001b[0;34m\u001b[0m\u001b[0m\n\u001b[0;32m-> 3513\u001b[0;31m         \u001b[0mfp\u001b[0m \u001b[0;34m=\u001b[0m \u001b[0mbuiltins\u001b[0m\u001b[0;34m.\u001b[0m\u001b[0mopen\u001b[0m\u001b[0;34m(\u001b[0m\u001b[0mfilename\u001b[0m\u001b[0;34m,\u001b[0m \u001b[0;34m\"rb\"\u001b[0m\u001b[0;34m)\u001b[0m\u001b[0;34m\u001b[0m\u001b[0;34m\u001b[0m\u001b[0m\n\u001b[0m\u001b[1;32m   3514\u001b[0m         \u001b[0mexclusive_fp\u001b[0m \u001b[0;34m=\u001b[0m \u001b[0;32mTrue\u001b[0m\u001b[0;34m\u001b[0m\u001b[0;34m\u001b[0m\u001b[0m\n\u001b[1;32m   3515\u001b[0m     \u001b[0;32melse\u001b[0m\u001b[0;34m:\u001b[0m\u001b[0;34m\u001b[0m\u001b[0;34m\u001b[0m\u001b[0m\n",
            "\u001b[0;31mFileNotFoundError\u001b[0m: [Errno 2] No such file or directory: 'cat.jpg'"
          ]
        }
      ]
    },
    {
      "cell_type": "markdown",
      "source": [
        "Lets convert it into grayscale so we dont have to deal with the complexity of multiple color channels:"
      ],
      "metadata": {
        "id": "4d8n_mAfCty0"
      }
    },
    {
      "cell_type": "code",
      "source": [
        "imgray = img.convert('LA')\n",
        "_=plt.imshow(imgray)"
      ],
      "metadata": {
        "id": "OXCzViz7BVOM"
      },
      "execution_count": null,
      "outputs": []
    },
    {
      "cell_type": "markdown",
      "source": [
        "Convert data into numpy matrix, which doesn't impact image data - but it will bring the image into a format where we work nicely."
      ],
      "metadata": {
        "id": "Sw8ct87iC7Sk"
      }
    },
    {
      "cell_type": "code",
      "source": [
        "imgmat = np.array(list(imgray.getdata(band = 0)),float)\n",
        "imgmat.shape = (imgray.size[1],imgray.size[0])\n",
        "imgmat = np.matrix(imgmat)\n",
        "_=plt.imshow(imgmat,cmap='gray')"
      ],
      "metadata": {
        "id": "QcvVG3t3Cl65"
      },
      "execution_count": null,
      "outputs": []
    },
    {
      "cell_type": "markdown",
      "source": [
        "calculate the SVD of the image"
      ],
      "metadata": {
        "id": "_wzo4vQtEQC9"
      }
    },
    {
      "cell_type": "code",
      "source": [
        "U,sigma,V = np.linalg.svd(imgmat)"
      ],
      "metadata": {
        "id": "dHBYieiyD8Il"
      },
      "execution_count": null,
      "outputs": []
    },
    {
      "cell_type": "markdown",
      "source": [
        "As eigenvalues are arranged in descending order in diag(lambda) so to are singular values,by convention,arranged in descending order in D(or in this code diag(sigma)).Thus, the first left sigular vector of U and right- singular vector of V may represent the most prominent feature of the image."
      ],
      "metadata": {
        "id": "0kkF7IhOEgS0"
      }
    },
    {
      "cell_type": "code",
      "source": [
        "reconstimg = np.matrix(U[:,:1])*np.diag(sigma[:1])*np.matrix(V[:1,:])\n",
        "_=plt.imshow(reconstimg,cmap='gray')"
      ],
      "metadata": {
        "id": "uSV-6hW2Eesg"
      },
      "execution_count": null,
      "outputs": []
    },
    {
      "cell_type": "markdown",
      "source": [
        "Adittional singular vector immprove the image quality"
      ],
      "metadata": {
        "id": "5cDUyHlSGlmx"
      }
    },
    {
      "cell_type": "code",
      "source": [
        "for i in [2,4,8,16,32,64]:\n",
        "  reconstimg = np.matrix(U[:,:i])*np.diag(sigma[:i])*np.matrix(V[:i,:])\n",
        "  plt.imshow(reconstimg,cmap='gray')\n",
        "  title = \"n = %s\" % i\n",
        "  plt.title(title)\n",
        "  plt.show()"
      ],
      "metadata": {
        "id": "7mq2_XX_GAdQ"
      },
      "execution_count": null,
      "outputs": []
    },
    {
      "cell_type": "markdown",
      "source": [
        "With 64 singular vectors, the image is reconstructed quite well, however the data footprint is much smaller than the origignal image:"
      ],
      "metadata": {
        "id": "A9nielrNHqbM"
      }
    },
    {
      "cell_type": "code",
      "source": [
        "imgmat.shape"
      ],
      "metadata": {
        "id": "_EQ_5qx-HT_D"
      },
      "execution_count": null,
      "outputs": []
    },
    {
      "cell_type": "code",
      "source": [
        "full_representation = 148*169\n",
        "full_representation"
      ],
      "metadata": {
        "id": "lMWMSytKH6gR"
      },
      "execution_count": null,
      "outputs": []
    },
    {
      "cell_type": "code",
      "source": [
        "svd64_rep = 64*148+64+64*169\n",
        "svd64_rep"
      ],
      "metadata": {
        "id": "hWnvmwpFIIWG"
      },
      "execution_count": null,
      "outputs": []
    },
    {
      "cell_type": "code",
      "source": [
        "svd64_rep/full_representation"
      ],
      "metadata": {
        "id": "jBtV3ehIIVj1"
      },
      "execution_count": null,
      "outputs": []
    },
    {
      "cell_type": "markdown",
      "source": [
        "**Specifically, the image represented as 64 singular vectors is 81% of the size of the original!.\n",
        "Alongside images, we can use singular vectors for dramatic, lossy compression of other types of media files.**"
      ],
      "metadata": {
        "id": "CGjutVijIqSh"
      }
    },
    {
      "cell_type": "code",
      "source": [],
      "metadata": {
        "id": "e-ty5d93IgVM"
      },
      "execution_count": null,
      "outputs": []
    },
    {
      "cell_type": "markdown",
      "source": [
        "**Principal Component Analysis**\n"
      ],
      "metadata": {
        "id": "4O5TE48iw-Zg"
      }
    },
    {
      "cell_type": "code",
      "source": [
        "from sklearn import datasets\n",
        "iris = datasets.load_iris()"
      ],
      "metadata": {
        "id": "mmChynkFxD9x"
      },
      "execution_count": null,
      "outputs": []
    },
    {
      "cell_type": "code",
      "source": [
        "iris.data.shape"
      ],
      "metadata": {
        "colab": {
          "base_uri": "https://localhost:8080/"
        },
        "id": "zGJ53-Z9xOUw",
        "outputId": "3e9a6e5a-99ef-4bc2-aa98-d14ed0c9ee64"
      },
      "execution_count": null,
      "outputs": [
        {
          "output_type": "execute_result",
          "data": {
            "text/plain": [
              "(150, 4)"
            ]
          },
          "metadata": {},
          "execution_count": 74
        }
      ]
    },
    {
      "cell_type": "code",
      "source": [
        "iris.get('feature_names')"
      ],
      "metadata": {
        "colab": {
          "base_uri": "https://localhost:8080/"
        },
        "id": "fbfJTZ2BxPo7",
        "outputId": "475474a7-eb3e-4b84-ddb9-a14aed0af93f"
      },
      "execution_count": null,
      "outputs": [
        {
          "output_type": "execute_result",
          "data": {
            "text/plain": [
              "['sepal length (cm)',\n",
              " 'sepal width (cm)',\n",
              " 'petal length (cm)',\n",
              " 'petal width (cm)']"
            ]
          },
          "metadata": {},
          "execution_count": 76
        }
      ]
    },
    {
      "cell_type": "code",
      "source": [
        "iris.data[0:9,:]"
      ],
      "metadata": {
        "colab": {
          "base_uri": "https://localhost:8080/"
        },
        "id": "5YxOe4DvxhZJ",
        "outputId": "16526ef7-e9c2-4734-d8a4-2977fb295733"
      },
      "execution_count": null,
      "outputs": [
        {
          "output_type": "execute_result",
          "data": {
            "text/plain": [
              "array([[5.1, 3.5, 1.4, 0.2],\n",
              "       [4.9, 3. , 1.4, 0.2],\n",
              "       [4.7, 3.2, 1.3, 0.2],\n",
              "       [4.6, 3.1, 1.5, 0.2],\n",
              "       [5. , 3.6, 1.4, 0.2],\n",
              "       [5.4, 3.9, 1.7, 0.4],\n",
              "       [4.6, 3.4, 1.4, 0.3],\n",
              "       [5. , 3.4, 1.5, 0.2],\n",
              "       [4.4, 2.9, 1.4, 0.2]])"
            ]
          },
          "metadata": {},
          "execution_count": 78
        }
      ]
    },
    {
      "cell_type": "code",
      "source": [
        "from sklearn.decomposition import PCA"
      ],
      "metadata": {
        "id": "aRqr6WgWx4zw"
      },
      "execution_count": null,
      "outputs": []
    },
    {
      "cell_type": "code",
      "source": [
        "pca = PCA(n_components =2)"
      ],
      "metadata": {
        "id": "L6_dYtnayCz0"
      },
      "execution_count": null,
      "outputs": []
    },
    {
      "cell_type": "code",
      "source": [
        "X = pca.fit_transform(iris.data)"
      ],
      "metadata": {
        "id": "IrJCOaPqyKGZ"
      },
      "execution_count": null,
      "outputs": []
    },
    {
      "cell_type": "code",
      "source": [
        "X.shape"
      ],
      "metadata": {
        "colab": {
          "base_uri": "https://localhost:8080/"
        },
        "id": "IDoRABuwyNf9",
        "outputId": "5c6a3c9a-d49b-42fb-d785-3b5003813f3b"
      },
      "execution_count": null,
      "outputs": [
        {
          "output_type": "execute_result",
          "data": {
            "text/plain": [
              "(150, 2)"
            ]
          },
          "metadata": {},
          "execution_count": 83
        }
      ]
    },
    {
      "cell_type": "code",
      "source": [
        "X[0:6,:]"
      ],
      "metadata": {
        "colab": {
          "base_uri": "https://localhost:8080/"
        },
        "id": "h-OS12vhyR6_",
        "outputId": "becd95b2-459f-4391-b244-6aaf9b069d9c"
      },
      "execution_count": null,
      "outputs": [
        {
          "output_type": "execute_result",
          "data": {
            "text/plain": [
              "array([[-2.68412563,  0.31939725],\n",
              "       [-2.71414169, -0.17700123],\n",
              "       [-2.88899057, -0.14494943],\n",
              "       [-2.74534286, -0.31829898],\n",
              "       [-2.72871654,  0.32675451],\n",
              "       [-2.28085963,  0.74133045]])"
            ]
          },
          "metadata": {},
          "execution_count": 84
        }
      ]
    },
    {
      "cell_type": "code",
      "source": [
        "_= plt.scatter(X[:,0],X[:,1])"
      ],
      "metadata": {
        "colab": {
          "base_uri": "https://localhost:8080/",
          "height": 435
        },
        "id": "0kaP8tLJycm-",
        "outputId": "0426de70-b79f-47ae-c2b0-2b3717a4082b"
      },
      "execution_count": null,
      "outputs": [
        {
          "output_type": "display_data",
          "data": {
            "text/plain": [
              "<Figure size 640x480 with 1 Axes>"
            ],
            "image/png": "[encoded data removed]"
          },
          "metadata": {}
        }
      ]
    },
    {
      "cell_type": "code",
      "source": [
        "iris.target.shape"
      ],
      "metadata": {
        "colab": {
          "base_uri": "https://localhost:8080/"
        },
        "id": "BObn8W5kym7A",
        "outputId": "2f16168b-70b0-47c9-a737-d8cf9c02a8e9"
      },
      "execution_count": null,
      "outputs": [
        {
          "output_type": "execute_result",
          "data": {
            "text/plain": [
              "(150,)"
            ]
          },
          "metadata": {},
          "execution_count": 86
        }
      ]
    },
    {
      "cell_type": "code",
      "source": [
        "iris.target[0:6]"
      ],
      "metadata": {
        "colab": {
          "base_uri": "https://localhost:8080/"
        },
        "id": "mhehRSUqyu2F",
        "outputId": "d06b0f4d-499a-461c-fc66-fc12a194b443"
      },
      "execution_count": null,
      "outputs": [
        {
          "output_type": "execute_result",
          "data": {
            "text/plain": [
              "array([0, 0, 0, 0, 0, 0])"
            ]
          },
          "metadata": {},
          "execution_count": 87
        }
      ]
    },
    {
      "cell_type": "code",
      "source": [
        "unique_element , count_element = np.unique(iris.target,return_counts=True)\n",
        "np.asarray((unique_element,count_element))"
      ],
      "metadata": {
        "colab": {
          "base_uri": "https://localhost:8080/"
        },
        "id": "I4qLeahxy32l",
        "outputId": "a6bb999f-228f-41ff-dc40-52b9200d5759"
      },
      "execution_count": null,
      "outputs": [
        {
          "output_type": "execute_result",
          "data": {
            "text/plain": [
              "array([[ 0,  1,  2],\n",
              "       [50, 50, 50]])"
            ]
          },
          "metadata": {},
          "execution_count": 88
        }
      ]
    },
    {
      "cell_type": "code",
      "source": [
        "list(iris.target_names)"
      ],
      "metadata": {
        "colab": {
          "base_uri": "https://localhost:8080/"
        },
        "id": "A9W3s5l70w9g",
        "outputId": "70126009-e25f-456e-e0bf-62e3fdc7ddcf"
      },
      "execution_count": null,
      "outputs": [
        {
          "output_type": "execute_result",
          "data": {
            "text/plain": [
              "[np.str_('setosa'), np.str_('versicolor'), np.str_('virginica')]"
            ]
          },
          "metadata": {},
          "execution_count": 89
        }
      ]
    },
    {
      "cell_type": "code",
      "source": [
        "_=plt.scatter(X[:,0],X[:,1], c = iris.target)"
      ],
      "metadata": {
        "colab": {
          "base_uri": "https://localhost:8080/",
          "height": 435
        },
        "id": "33zSfRPA1t6S",
        "outputId": "1776dee4-a6b0-4374-9be9-11d959f5b7f1"
      },
      "execution_count": null,
      "outputs": [
        {
          "output_type": "display_data",
          "data": {
            "text/plain": [
              "<Figure size 640x480 with 1 Axes>"
            ],
            "image/png": "[encoded data removed]"
          },
          "metadata": {}
        }
      ]
    },
    {
      "cell_type": "code",
      "source": [],
      "metadata": {
        "id": "CALPj4Lp2DyW"
      },
      "execution_count": null,
      "outputs": []
    }
  ]
}